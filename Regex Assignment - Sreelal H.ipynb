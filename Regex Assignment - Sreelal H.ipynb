{
 "cells": [
  {
   "cell_type": "markdown",
   "id": "36e76dba",
   "metadata": {},
   "source": [
    "##### Question"
   ]
  },
  {
   "cell_type": "markdown",
   "id": "59d29e76",
   "metadata": {},
   "source": [
    "Write a regex to extract all the numbers starts after the column (:) from the below text in italics.\n",
    "\n",
    "\n",
    "{\"orders\":[{\"id\":1},{\"id\":2},{\"id\":3},{\"id\":4},{\"id\":5},{\"id\":6},{\"id\":7},{\"id\":8},{\"id\":9},{\"id\":10},{\"id\":11},{\"id\":648},{\"id\":649},{\"id\":650},{\"id\":651},{\"id\":652},{\"id\":653}],\"errors\":[{\"code\":3,\"message\":\"[PHP Warning #2] count(): Parameter must be an array or an object that implements Countable (153)\"}]}"
   ]
  },
  {
   "cell_type": "code",
   "execution_count": 9,
   "id": "1c2a179e",
   "metadata": {},
   "outputs": [],
   "source": [
    "text='({\"orders\":[{\"id\":1},{\"id\":2},{\"id\":3},{\"id\":4},{\"id\":5},{\"id\":6},{\"id\":7},{\"id\":8},{\"id\":9},{\"id\":10},{\"id\":11},{\"id\":648},{\"id\":649},{\"id\":650},{\"id\":651},{\"id\":652},{\"id\":653}],\"errors\":[{\"code\":3,\"message\":\"[PHP Warning #2] count(): Parameter must be an array or an object that implements Countable (153)\"}]})'"
   ]
  },
  {
   "cell_type": "code",
   "execution_count": 11,
   "id": "302a66ae",
   "metadata": {},
   "outputs": [
    {
     "name": "stdout",
     "output_type": "stream",
     "text": [
      "['1', '2', '3', '4', '5', '6', '7', '8', '9', '10', '11', '648', '649', '650', '651', '652', '653', '3']\n"
     ]
    }
   ],
   "source": [
    "import re\n",
    "lst=re.findall(\":[0-9]+\",text)\n",
    "print([i.strip(':') for i in lst])"
   ]
  },
  {
   "cell_type": "code",
   "execution_count": null,
   "id": "24eb95e6",
   "metadata": {},
   "outputs": [],
   "source": []
  }
 ],
 "metadata": {
  "kernelspec": {
   "display_name": "Python 3",
   "language": "python",
   "name": "python3"
  },
  "language_info": {
   "codemirror_mode": {
    "name": "ipython",
    "version": 3
   },
   "file_extension": ".py",
   "mimetype": "text/x-python",
   "name": "python",
   "nbconvert_exporter": "python",
   "pygments_lexer": "ipython3",
   "version": "3.8.8"
  }
 },
 "nbformat": 4,
 "nbformat_minor": 5
}
